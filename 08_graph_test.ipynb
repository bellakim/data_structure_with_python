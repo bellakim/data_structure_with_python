{
 "cells": [
  {
   "cell_type": "markdown",
   "metadata": {},
   "source": [
    "## 8장 그래프 연습문제 "
   ]
  },
  {
   "cell_type": "markdown",
   "metadata": {},
   "source": [
    "1.100개   \n",
    "2.1개  \n",
    "3.6x5/2 = 15  \n",
    "4.4   \n",
    "5.1,4\n",
    "6.4  \n",
    "\n",
    "7.신장트리란?   \n",
    "1)모든 정점을 포함하고, 2)정점간 서로 연결되면서 사이클이 존재하지 않는 그래프(트리조건) \n",
    "\n",
    "8.DFS는 스택이용, BFS는 큐 이용 수행시간은 O(N+M)으로같다.   \n",
    "\n",
    "9.BFS수행시 N개 정점 가진 그래프에 대해 큐에 최대 몇개 정점 저장될 수있는가? : 코드 보면 큐에 우선 하나 넣고 \n",
    "그것을 팝해서 인접한 정점들 인덱스의 리스트 얻은뒤 그것을 for문 돌면서 queue에 append하고 있다. 그렇기 때문에 초기 1개빼고, 만약 초기 정점이 모든 정점에 연결된 경우 N-1개의 정점의 인덱스가 이순간 큐에 저장되게 된다. 이후에 새롭게 queue에 append된 정점을 하나씩 팝해가면 해당 인접 정점 리스트를 for문 돈다고 해도 n-1개를 넘을수는 없다.   \n",
    "\n",
    "10.\n",
    "N개의 정점을 가진 무방행 그래프 G에 대해 다음의 설명 중 맞는 것만 모아 놓은 것은?  \n",
    "i) G의 각 쌍의 정점 사이에는 1개의 경로만 존재하면, G는 트리이다.   \n",
    "-> 단순경로 (경로상의 정점들이 모두 다른 경로)라면 맞지만 일반 경로라면 경로 상의 정점이 중복되어 나타날 수있기 때문에 틀리다.  \n",
    "\n",
    "ii)G가 하나의 연결성분으로 되어있고 N-1개의 간선을 가지면 G는 트리이다.   \n",
    "-> 아니다. 5개의 정점을 4개의 간선으로 환형으로 구성하면 사이클 존제해서 트리가 아니다.   \n",
    "\n",
    "iii)G가 N-1개의 간선을 가지면서 싸이클이 없으면, G는 트리이다.->맞는듯. \n",
    "\n",
    "답은 정황상 1,3인듯   \n",
    "\n",
    "11.하나의 연결성분으로 구성된 그래프 G(V,E)의 신장트리 T에 관한 설명이다. \n",
    "다음중 잘못된것을 고르시오 단 N = [V]  \n",
    "3번 -> T에 새로운 간선을 추가하면 반드시 싸이클이 만들어진다.(x)\n",
    "-> 새로운 정점을 추가하면서 간선 추가시에는 싸이클 안생김.\n",
    "  \n",
    "12.인접정점이 없는 정점부터 역순으로 그래프에서 제거해가면서 인접 정점없는애를 없애 나가면 된다.  \n",
    "답 3번   \n",
    "\n",
    "13.하나의 연결성분으로된 무방향 그래프에서 DFS를 사용해서 이중연결성분을 찾는 알고리즘을 조사해봐라.  \n",
    "이중연결성분 ? : 무방향 그래프의 연결성분에서 임의의 두 정점들 사이에 적어도 2개의 단순경로가 존재하는 연결성분  \n",
    "[참고](https://www.geeksforgeeks.org/biconnected-components/)    \n",
    "[유튜부참고](https://youtu.be/ZEzqS6ONMAI)\n",
    "\n",
    "\n",
    "14.하나의 연결성분으로된 방향 그래프에서 DFS를 사용하여 강연결성분을 찾는 Kosaraju알고리즘을 찾는 알고리즘에 대해 조사해보시오.  \n",
    "[참고1](https://wondy1128.tistory.com/130)  \n",
    "[유튜부참고](https://www.youtube.com/watch?v=RpgcYiky7uw)\n"
   ]
  },
  {
   "cell_type": "code",
   "execution_count": null,
   "metadata": {},
   "outputs": [],
   "source": []
  }
 ],
 "metadata": {
  "kernelspec": {
   "display_name": "Python 3",
   "language": "python",
   "name": "python3"
  },
  "language_info": {
   "codemirror_mode": {
    "name": "ipython",
    "version": 3
   },
   "file_extension": ".py",
   "mimetype": "text/x-python",
   "name": "python",
   "nbconvert_exporter": "python",
   "pygments_lexer": "ipython3",
   "version": "3.6.5"
  }
 },
 "nbformat": 4,
 "nbformat_minor": 2
}
