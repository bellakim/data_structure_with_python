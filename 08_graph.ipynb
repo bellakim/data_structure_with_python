{
 "cells": [
  {
   "cell_type": "markdown",
   "metadata": {},
   "source": [
    "# 8장 그래프   \n",
    "\n",
    "```\n",
    "8.1그래프 \n",
    " 8.11 그래프 용어 \n",
    " 8.12 그래프 자료 구조 \n",
    " \n",
    "8.2 그래프 탐색 \n",
    " 8.2.1 깊이우선탐색 \n",
    " 8.22 너비우선탐색 \n",
    "\n",
    "8.3 기본적인 그래프 알고리즘 \n",
    " 8.3.1 연결성분 찾기 \n",
    " 8.3.2 위상정렬 \n",
    "\n",
    "8.4 최소신장트리 \n",
    " 8.4.1 Kruskal 알고리즘 \n",
    " 8.4.2 Prime 알고리즘 \n",
    " 8.4.3 Sollin 알고리즘 \n",
    " \n",
    "8.4 최단경로 알고리즘 \n",
    " 8.5.1 Diikstra 알고리즘 \n",
    " 8.5.2 Floyd-Warshall 알고리즘 \n",
    " \n",
    "```"
   ]
  },
  {
   "cell_type": "markdown",
   "metadata": {},
   "source": [
    "## 8.1 그래프    \n",
    "\n",
    " ### 8.11 그래프 용어 \n",
    " 그래프 : 정점 과 간선의 집합.\n",
    " 간선 : 두개의 정점 연결    \n",
    " G = (V, E)  = (정점집합, 간선집합)  \n",
    " 방향그래프 vs 무방행 그래프    \n",
    " 차수: 정점 에 인접한 정점의수   \n",
    " 진입차수 vs 진출차수   \n",
    " 경로 : 시작정점 부터 도착 정점들을 나열하여 표현   \n",
    " 단순경로: 경로 상의 정점들이 모두 다른 경로 (경로 상에 동일한 정점이 중복되어 나타날 수있다.)  \n",
    " 싸이클 : 시작정점과 도착정점 동일한 단순경로   \n",
    " 연결성분.  \n",
    " 가중치 그래프 : 간선에 가중치 부여된 그래프 (거리 or 시간 )  \n",
    " 부분그래프 : 주어진 그래프의 정점, 간선의 일부분(부분집합)으로 이루어진 그래프    \n",
    " 트리 : 싸이클 없는 그래프   \n",
    " 신장트리 : 모든 정점들을 싸이클 없이 연결하는 부분그래프  \n",
    " 희소그래프 : 정점의 차수가 작은 (최대 간선수 N(N-1)/2보다)  \n",
    " 조밀그래프 : 간선의 수가 최대 간선 수에 근접한 그래프.   \n",
    "\n",
    " ### 8.12 그래프 자료 구조   \n",
    "```\n",
    "    0\n",
    "  /   \\ \n",
    " 2  -  1\n",
    "  \\   /\n",
    "    3  \n",
    "   \n",
    " 인접 행렬 \n",
    "   \n",
    "     0 1 2 3 \n",
    "     -------\n",
    "  0 |0 1 1 0 \n",
    "  1 |1 0 1 1 \n",
    "  2 |1 1 0 1\n",
    "  3 |0 1 1 0 \n",
    "  \n",
    "  가중치 그래프 경우 1대신 가중치 저장함 \n",
    "  \n",
    "  \n",
    " 인접리스트  \n",
    " \n",
    " [0] -> [1] -> [2]\n",
    " [1] -> [0] -> [2] -> [3]\n",
    " [2] -> [0] -> [1] -> [3]\n",
    " [3] -> [1] -> [2]\n",
    " \n",
    " \n",
    " 파이썬 에서 이렇게 나 타낼 수있다.   \n",
    " \n",
    " adj = [[1,2],[0,2,3],[0,1,3],[1,2]]\n",
    " \n",
    "  adj   리스트  \n",
    " [0] -> [1,2]\n",
    " [1] -> [0,2,3]\n",
    " [2] -> [0,1,3]\n",
    " [3] -> [1,2]\n",
    " \n",
    " \n",
    " -> 인접행렬과 인접리스트 동시에 반영한 것과 같다. \n",
    " 간선 (1,3) -> adk[1][2]  (2차원 행렬 같이 접근 or adj[1]는 정점 1에 인접한 정점의 리스트로 마치 단순연결 리스트 같이 순차적으로 각 인접  정점 접근 가능   \n",
    " \n",
    " \n",
    "```\n"
   ]
  },
  {
   "cell_type": "markdown",
   "metadata": {},
   "source": [
    "## 8.2 그래프 탐색 \n",
    "모든 정점을 방문하는 두가지 방법.  \n",
    "\n",
    "### 8.2.1 깊이우선탐색 \n",
    "미로를 실풀고 다니며 무조건 깊이 탐색 하다가 막다르면 왔던경로 되돌아가 다른경로 탐색해서 출구 찾는과정.  "
   ]
  },
  {
   "cell_type": "code",
   "execution_count": 3,
   "metadata": {},
   "outputs": [
    {
     "name": "stdout",
     "output_type": "stream",
     "text": [
      "0  2  3  9  8  1  4  5  7  6  "
     ]
    }
   ],
   "source": [
    "adj_list = [[2,1],[3,0],[3,0],[9,8,2,1],[5],[7,6,4],[7,5],[6,5],[3],[3]]\n",
    "N = len(adj_list)\n",
    "visited = [False]*N  \n",
    "\n",
    "\n",
    "\n",
    "def dfs(v):\n",
    "\n",
    "    visited[v] = True\n",
    "    print(v,' ', end=\"\")\n",
    "    \n",
    "    for j in adj_list[v]:\n",
    "        if not visited[j]:\n",
    "            dfs(j)    \n",
    "\n",
    "for i in range(N):\n",
    "    if not visited[i] :\n",
    "        dfs(i)"
   ]
  },
  {
   "cell_type": "markdown",
   "metadata": {},
   "source": [
    "<img src=\"images/20190521_212348_580.jpg\" width=\"500\">  \n",
    "  \n",
    "a의 방문 순서대로 0 부터 위에서 아래 방향으로 정점 그리면 b같은 트리 만들어짐.  \n",
    "실선 : 첫 방문시 사용된 간선  \n",
    "점선 : **뒷간선**. 탐색 중 이미 방문된 정점에 도달한 경우.  \n",
    "\n",
    "입력 그래프가 하나의 연결성분으로 되있을때, DFS를 수행하며 실선으로 만들어지는 트리 : 깊이우선 신장트리   "
   ]
  },
  {
   "cell_type": "markdown",
   "metadata": {},
   "source": [
    "### 8.22 너비우선탐색    \n",
    "연못에 돌던져 물결이 동심원그리며 퍼지는 모양.  "
   ]
  },
  {
   "cell_type": "code",
   "execution_count": 12,
   "metadata": {},
   "outputs": [
    {
     "name": "stdout",
     "output_type": "stream",
     "text": [
      "0  2  1  3  9  8  4  5  7  6  "
     ]
    }
   ],
   "source": [
    "adj_list = [[2,1],[3,0],[3,0],[9,8,2,1],[5],[7,6,4],[7,5],[6,5],[3],[3]]\n",
    "N = len(adj_list)\n",
    "visited = [False]*N  \n",
    "\n",
    "\n",
    "\n",
    "def dfs(v):\n",
    "    \n",
    "    queue = [] \n",
    "    queue.append(v)                         # 큐에 해당 정점 추가하고 방문 처리  (1) \n",
    "    visited[v] = True\n",
    "    \n",
    "    while queue:\n",
    "        \n",
    "        x = queue.pop(0)                   # 큐에서 하나 꺼내서 그 인접리스트 포문 돌면서 방문 안한거 먼저 큐에 넣고 \n",
    "        print(x,' ', end=\"\")               # 실질적 프린트는 여기서 방금 꺼낸것 처리 \n",
    "        \n",
    "        for w in adj_list[x]:\n",
    "            if not visited[w]:\n",
    "                queue.append(w) \n",
    "                visited[w] = True          # 위에서 꺼낸 x의 인접중 방문 안한것 여기서 방문 처리 \n",
    "                                           # 맨위의  (1)과 같은 단계가 이것. \n",
    "                \n",
    "                \n",
    "for i in range(N):\n",
    "    if not visited[i] :\n",
    "        dfs(i)"
   ]
  },
  {
   "cell_type": "markdown",
   "metadata": {},
   "source": [
    "<img src=\"images/20190521_212401_541.jpg\" width=\"500\">   \n",
    "\n",
    "a의 방문 순서대로 0 부터 위에서 아래 방향으로 정점 그리면 b같은 트리 만들어짐.  \n",
    "실선 : 첫 방문시 사용된 간선  \n",
    "점선 : **교차간선** 탐색 중 이미 방문된 정점에 도달한 경우 \n",
    "\n",
    "입력 그래프가 하나의 연결성분으로 되있을때, BFS 수행하며 실선으로 만들어지는 트리 : 너비우선 신장트리   "
   ]
  },
  {
   "cell_type": "markdown",
   "metadata": {},
   "source": [
    "**수행시간**  \n",
    "BFS,DFS 같이 각 정점 1번씩 방문, 각 간선을 1번씩만 사용하여 탐색하기 때문에 O(N+M)의 수행시간이 소요된다.(간선수 + 정점수)     \n",
    "BFS, DFS는 정점의 방문 순서나 간선을 사용하는 순서만 다를뿐.   \n",
    "( N은 밖에서 전체 정점 for문으로 돌며 dfs()호출할때, M은 각 제귀함수 안에서 각 정점의 인접정점 에 대해서 for문 돌때. 이 for문 자체가 총 간선 수만큼 즉 어떤 정점에서 그정점의 인접정점 가진 만큼 있기 때문에 N+M)  \n",
    "\n",
    "**응용**  \n",
    "\n",
    "신장트리, 연결성분, 경로, 싸이클, -> BFS, DFS  \n",
    "최소 간선을 사용하는 경로        -> BFS  \n",
    "위상정렬, 이중연결성분, 강연결성분 -> DFS "
   ]
  },
  {
   "cell_type": "code",
   "execution_count": null,
   "metadata": {},
   "outputs": [],
   "source": []
  },
  {
   "cell_type": "markdown",
   "metadata": {},
   "source": [
    "## 8.3 기본적인 그래프 알고리즘  \n",
    "\n",
    "### 8.3.1 연결성분 찾기 \n",
    "주어진 무방향 그래프에서 DFS나 BFS를 수행하여 연결성분을 찾을 수있다.\n",
    "여기선 DFS사용.  \n",
    "\n",
    "```\n",
    "주어진 정점으로부터 DFS수행하여 방문되는 정점들의 리스트 모아 1개의 연결성분 만듬.  \n",
    "당므에 방문 안된 정점으로부터 같은 과정 반복하여 다른 연결성분들을 추출.  \n",
    "```\n"
   ]
  },
  {
   "cell_type": "code",
   "execution_count": 12,
   "metadata": {},
   "outputs": [],
   "source": [
    "adj_list = [[3],[6,10],[7,11],[0,6,8],[13],\n",
    "            [14],[1,3,8,10,11],[2,11],[3,6,10,12],\n",
    "            [13],[1,6,8],[2,6,7],[8],[4,9],[5]]\n",
    "\n",
    "N = len(adj_list)\n",
    "CCList = [] \n",
    "visited = [False]* N \n",
    "\n",
    "\n",
    "\n",
    "def dfs(s):\n",
    "    global ss \n",
    "    \n",
    "    visited[s] =True\n",
    "    ss.append(s)\n",
    "    \n",
    "    \n",
    "    for i in adj_list[s]:\n",
    "        if not visited[i]:\n",
    "            dfs(i)\n",
    "            \n",
    "            \n",
    "for j in range(N):\n",
    "    ss = [] \n",
    "    if not visited[j]:\n",
    "#         ss = [] \n",
    "        dfs(j)\n",
    "        CCList.append(ss)\n",
    "\n",
    "\n"
   ]
  },
  {
   "cell_type": "code",
   "execution_count": 8,
   "metadata": {},
   "outputs": [
    {
     "data": {
      "text/plain": [
       "[[0, 3, 6, 1, 10, 8, 12, 11, 2, 7], [4, 13, 9], [5, 14]]"
      ]
     },
     "execution_count": 8,
     "metadata": {},
     "output_type": "execute_result"
    }
   ],
   "source": [
    "CCList\n"
   ]
  },
  {
   "cell_type": "markdown",
   "metadata": {},
   "source": [
    "<img src=\"images/20190521_212418_360.jpg\" width=\"500\">   \n",
    "\n",
    "#### 수행시간   \n",
    "기본적으로 DFS수행하는 것이므로 각 정점 1번씩 방문하며 각 간선을 1번씩만 사용하여 탐색하기 때문에 O(N+M)의 수행시간이 소요됨.  \n"
   ]
  },
  {
   "cell_type": "markdown",
   "metadata": {},
   "source": [
    "### 8.3.2 위상정렬 \n",
    "(topoplogical sort)란 싸이클이 없는 방향그래프 에서 정점들을 선형순서 (정점들을 일렬)로 나열하는것을 의미한다.   \n",
    "<img src=\"images/20190521_212429_576.jpg\" width=\"700\">   \n",
    "\n",
    "위상정렬 결과는 그래프의 각 간선 <u,v>에 대해 u가 반드시 v보다 앞서 나열되어야 한다.   \n",
    "그림과 같이 각 정점에 대해 순서 부여하는 것을 위상 정렬이라 한다.  \n",
    "그래프 따라 여러개의 위상정렬이 존재할 수 있다.  \n",
    "\n",
    "위상정렬 2가지 방법으로 수행 가능하다. \n",
    "\n",
    "1. **순방향 방법** : 그래프에서 진입차수가 0인 정점 v로부터 시작하여 v를 출력하고 v를 그래프에서 제거하는 과정을 반복하는 방법   \n",
    "2. **역방향 방법** : 진출 차수가 0 인 정점 v를 출력하고 v를 그래프에서 제거하는 과정을 반복하여 얻은 출력 리스트를 역순으로 만들어 결과를 얻는 방법     \n",
    "\n",
    "순방향방법 ->  각 정점의 진입 차수를 알기 위해서는 인접 리스트를 각 정점으로 진입하는 정점들의 인접리스트로 바꿔야 되는 단점.   \n",
    "역방향방법 -> 변형된 DFS 수행해서 출력 리스트 작성 후에 리스트를 역순으로 만들어 위상정렬 결과를 얻는다.   \n",
    "\n",
    "```  \n",
    " DFS를 수행하며 각 정점 v의 인접한 모든 정점들의 방문이 끝나자마자 v를 리스트에 추가한다.  \n",
    " 리스트가 완성되면 리스트를 역순으로 만든다.   \n",
    "```\n"
   ]
  },
  {
   "cell_type": "code",
   "execution_count": 15,
   "metadata": {},
   "outputs": [
    {
     "name": "stdout",
     "output_type": "stream",
     "text": [
      "[2, 0, 1, 4, 5, 3, 6, 7, 8]\n"
     ]
    }
   ],
   "source": [
    "adj_list = [[1],[3,4],[0,1],[6],[5],[7],[7],[8],[]]\n",
    "N = len(adj_list)\n",
    "visited = [False]*N\n",
    "s = []  \n",
    "\n",
    "def dfs(v):\n",
    "    visited[v] = True\n",
    "    \n",
    "    for i in adj_list[v]:\n",
    "        if not visited[i]:\n",
    "            dfs(i)\n",
    "    s.append(v)\n",
    "            \n",
    "for i in range(N):\n",
    "    if not visited[i]:\n",
    "        dfs(i)\n",
    "\n",
    "        \n",
    "s.reverse()\n",
    "print(s)"
   ]
  },
  {
   "cell_type": "code",
   "execution_count": 18,
   "metadata": {},
   "outputs": [
    {
     "name": "stdout",
     "output_type": "stream",
     "text": [
      "0   1   3   6   7   8   4   5   2   "
     ]
    }
   ],
   "source": [
    "# 그냥 방문한 순서 찍어 본다면? \n",
    "\n",
    "adj_list = [[1],[3,4],[0,1],[6],[5],[7],[7],[8],[]]\n",
    "N = len(adj_list)\n",
    "visited = [False]*N\n",
    "s = []  \n",
    "\n",
    "def dfs(v):\n",
    "    visited[v] = True\n",
    "    print(v,' ', end =\" \")\n",
    "    for i in adj_list[v]:\n",
    "        if not visited[i]:\n",
    "            dfs(i)\n",
    "#     s.append(v)\n",
    "            \n",
    "for i in range(N):\n",
    "    if not visited[i]:\n",
    "        dfs(i)"
   ]
  },
  {
   "cell_type": "markdown",
   "metadata": {},
   "source": [
    "#### 수행시간   \n",
    "깊이우선 탐색 시간과 동일한 O(N+M) + 리스트 역순으로 만드는 시간 O(N)  "
   ]
  },
  {
   "cell_type": "code",
   "execution_count": null,
   "metadata": {},
   "outputs": [],
   "source": []
  },
  {
   "cell_type": "markdown",
   "metadata": {},
   "source": [
    "### 이중 연결 성분     \n",
    "무방향 그래프의 연결성분에서 임의의 두 정점들 사이에 적어도 2개의 단순경로가 존재하는 연결성분 \n",
    "\n",
    "어느 정점 하나가 삭제되도 연결성분 내의 정점들 사이 연결 유지됨.  \n",
    "통신네트워크, 전력공급의 견고성 분석하는 방법.   \n",
    "**단절정점**: 연결성분의 정점들 중 하나의 정점을 삭제했을 때 2개 이상의 연결성분들로 분리될때의 삭제된 정점    \n",
    "**다리간선**    \n",
    "\n",
    "단절 정점은 이웃한 이중연결성분들에 동시에 속하고 다리간선은 그자체로 하나의 이중연결성분.  \n",
    "\n",
    "<img src=\"images/20190521_212440_375.jpg\" width=\"500\">   \n",
    "세개의 이중연결성분으로 구성된 그림. \n",
    "\n",
    "관련문제는 연습문제에 수록.  \n",
    "\n"
   ]
  },
  {
   "cell_type": "markdown",
   "metadata": {},
   "source": [
    "### 강연결성분    \n",
    "방향 그래프에서 연결성분 내의 임의ㅢ 두 정점 u와 v에 대해 정점 u에서 v로 가는 경로가 존재하고 동시에 v에서 u로 돌아오는 경로가 존재하는 연결성분을 의미한다.  \n",
    "소셜네트워크에서 커뮤니티를 분석하는데 활용되며 인터넷 웹페이지 분석에도 사용된다. \n",
    "<img src=\"images/20190521_212444_660.jpg\" width=\"500\">   \n",
    "\n",
    "관련문제는 연습문제에 수록.  \n"
   ]
  },
  {
   "cell_type": "code",
   "execution_count": null,
   "metadata": {},
   "outputs": [],
   "source": []
  },
  {
   "cell_type": "markdown",
   "metadata": {},
   "source": [
    "## 8.4 최소신장트리 \n",
    "```\n",
    "연결성분 하나로 이뤄진 무방향 가중치 그래프에서 간선의 가중치의 합이 최소인 신장트리   \n",
    "```\n",
    "\n",
    "최소신장트리 찾는 알고리즘 kruskal, prime, sollin.-> 그리디 알고리즘.  \n",
    "**그리디 알고리즘** : 최적해(최솟값 or 최댓값을) 찾는 문제를 해결하기 위한 알고리즘 방식. 항상 욕심내어 지역적인 최솟값(or 최댓값)을 선택, 이러한 부분적인 선택을 축적하여 최적해를 찾는다. \n",
    "\n",
    "### 8.4.1 Kruskal 알고리즘   \n",
    "가중치가 감소하지 않는 순서로 정렬한 후, 가중치가 가장 작은 간선이 싸이클을 만들지 않으면 트리 간선으로 선택하며, 이과정을 반복하여 N-1개의 간선이 선택되었을때 알고리즘을 종료(항상 욕심내어 가중치가 가장 작은 간선을 가져온다.) \n",
    "\n",
    "```\n",
    "[1] 가중치가 감소하지 않는 순서로 간선 리스트 L을 만든다.   \n",
    "[2] while 트리의 간선 수 < (N-1):  \n",
    "[3]     L에서 가장 작은 가중치를 가진 간선 e를 가져오고 e를 L에서 제거한다.  \n",
    "[4]     if 간선 e가 T에 추가하여 싸이클을 만들지 않으면:  \n",
    "[5]          간선 e를 T에 추가. \n",
    "\n",
    "\n",
    "T는 초기에 EMPTY\n",
    "```  \n",
    "\n",
    "<img src=\"images/20190521_212506_766.jpg\" width=\"500\">   \n",
    "<img src=\"images/20190521_212512_743.jpg\" width=\"500\">     \n",
    "\n",
    "\n"
   ]
  },
  {
   "cell_type": "code",
   "execution_count": 54,
   "metadata": {},
   "outputs": [
    {
     "name": "stdout",
     "output_type": "stream",
     "text": [
      "[0, 1, 2, 3, 4, 5, 6] 상호배타적 집합 변화 \n",
      "(4, 6)\n",
      "[0, 1, 2, 3, 4, 5, 4] 상호배타적 집합 변화 \n",
      "(2, 5)\n",
      "[0, 1, 2, 3, 4, 2, 4] 상호배타적 집합 변화 \n",
      "(6, 1)\n",
      "[0, 4, 2, 3, 4, 2, 4] 상호배타적 집합 변화 \n",
      "(3, 5)\n",
      "[0, 4, 3, 3, 4, 2, 4] 상호배타적 집합 변화 \n",
      "(1, 4)\n",
      "[0, 4, 3, 3, 4, 2, 4] 상호배타적 집합 변화 \n",
      "(5, 6)\n",
      "[0, 4, 3, 3, 3, 3, 4] 상호배타적 집합 변화 \n",
      "(2, 4)\n",
      "[0, 4, 3, 3, 3, 3, 4] 상호배타적 집합 변화 \n",
      "(3, 6)\n",
      "[0, 4, 3, 3, 3, 3, 3] 상호배타적 집합 변화 \n",
      "(1, 0)\n",
      "최소신장트리:  [(4, 6), (2, 5), (6, 1), (3, 5), (5, 6), (1, 0)]\n",
      "최소신장트리 가중치 : 25\n"
     ]
    }
   ],
   "source": [
    "weights = [(1, 0, 9), (0, 2, 10), (1, 3, 10), (1, 4, 5),\n",
    "           (6, 1, 3), (2, 3, 9), (2, 4, 7), (2, 5, 2),\n",
    "           (3, 5, 4), (3, 6, 8), (4, 6, 1), (5, 6, 6)]\n",
    "\n",
    "weights.sort(key=lambda t: t[2])  # 가중치를 기준으로 정렬\n",
    "\n",
    "mst = []\n",
    "N = 7\n",
    "p = []  # 상호 배타적 집합(Disjoint set) 어느 두 집합도 중복된 원소를 갖지 않는 경우. 이러한 집합들을 ~ \n",
    "\n",
    "for i in range(N):\n",
    "    p.append(i)\n",
    "    \n",
    "\n",
    "# 주어진 원소에 대해 어느 집합에 속해있는지 찾는 연산.  \n",
    "# 인자로 주어진 u가 속한 집합의 대표노드 즉 루트 노드 찾는 연산.\n",
    "def find(u):\n",
    "    \n",
    "    if p[u] != u:\n",
    "        p[u] = find(p[u]) # 경로압축 .  \n",
    "\n",
    "# 경로 압축을 안한다면? \n",
    "#     if p[u] != u:\n",
    "#         return find(p[u])\n",
    "    \n",
    "    return p[u] # 바로위의 부모가 아니라 p[u] = u 인 즉 자신이 루트인 최상위 부모가 아니면 안되기 때문에 \n",
    "                # 어쨌든 맨위까지 가긴 하야함. 다만 경로압축을 해서 추후의 탐색을 빠르게 하겠다는것. \n",
    "    \n",
    "# 합집합 연산  \n",
    "# 2개의 집합을 하나의 집합으로 만드는 연산. \n",
    "def union(u,v):\n",
    "    root1 = find(u)\n",
    "    root2 = find(v)\n",
    "    p[root2] = root1 \n",
    "\n",
    "tree_edges = 0 \n",
    "mst_cost = 0   \n",
    "\n",
    "while True:\n",
    "    \n",
    "    if tree_edges == N-1:\n",
    "        break   \n",
    "    \n",
    "    u,v,wt = weights.pop(0)\n",
    "    print(p, '상호배타적 집합 변화 ')\n",
    "    print((u,v))\n",
    "    if find(u) != find(v):\n",
    "        mst.append((u,v))\n",
    "        union(u,v)\n",
    "        tree_edges += 1\n",
    "        mst_cost += wt  \n",
    "\n",
    "print('최소신장트리: ', mst)\n",
    "print('최소신장트리 가중치 :', mst_cost)\n",
    "        \n",
    "    \n",
    "        \n",
    "    "
   ]
  },
  {
   "cell_type": "code",
   "execution_count": 55,
   "metadata": {},
   "outputs": [
    {
     "data": {
      "text/plain": [
       "[(2, 3, 9), (0, 2, 10), (1, 3, 10)]"
      ]
     },
     "execution_count": 55,
     "metadata": {},
     "output_type": "execute_result"
    }
   ],
   "source": [
    "weights  # 가중치대로 정렬한 간선들. 여기서 하나씩 뽑아나감. "
   ]
  },
  {
   "cell_type": "code",
   "execution_count": 56,
   "metadata": {},
   "outputs": [
    {
     "data": {
      "text/plain": [
       "[3, 3, 3, 3, 3, 3, 3]"
      ]
     },
     "execution_count": 56,
     "metadata": {},
     "output_type": "execute_result"
    }
   ],
   "source": [
    "p # 상호 배타적 집합 "
   ]
  },
  {
   "cell_type": "markdown",
   "metadata": {},
   "source": [
    "<img src=\"images/20190521_212522_591.jpg\" width=\"500\">   \n",
    "상호 배타적 집합을 일반 트리 형태로 표현하여 리스트에 저장된 상태  \n",
    "각 집합은 루트가 대표.   \n",
    "루트의 각 리스트 원소에는 루트 자신이 저장.  \n",
    "루트가 아닌 노드의 원소에는 부모 노드가 저장된다.   \n",
    "\n",
    "<img src=\"images/20190521_212530_437.jpg\" width=\"500\">   \n",
    "경로 압축.  \n",
    "```\n",
    "find연산을 수행하면서 루트까지 올라가는 경로 상의 각 노드의 부모노드를 루트 노드로 갱신한다. \n",
    "이를 경로압축 이라 한다. \n",
    "```\n",
    "\n",
    "#### 수행시간   \n",
    "kruskal 알고리즘의 수행시간은 간선을 정렬(또는 우선순위큐의 삽입과 삭제) 하는데 소요시간인   \n",
    "O(MlogM) = O(MlogN)과 트리에 간선을 추가 하려 할 때   \n",
    "find과 union 을 수행하는 시간인 O((M+N)log\\*N) 의 합 -> O(MlogN) + O((M+N)log\\*M) = O(MlogN)  \n",
    "(union 연산은 단순히 하나의 루트가 다른 루트의 자식이 되는것이므로 O(1)시간 걸리며, 실제로 조금 복잡한 분석 방법을 통해서 Union ,find연산수행시간 결정된다.)  \n"
   ]
  },
  {
   "cell_type": "code",
   "execution_count": null,
   "metadata": {},
   "outputs": [],
   "source": []
  },
  {
   "cell_type": "markdown",
   "metadata": {},
   "source": [
    "### 8.4.2 Prime 알고리즘 \n",
    "\n",
    "임의의 시작 정점에서 가장 가까운 정점을 추가하여 간선이 하나의 트리를 만들고 만들어진 트리에 인접한 가장 가까운 장점을 하나씩 추가하여 최소신장트리를 만든다.    \n",
    "\n",
    "\n",
    "```\n",
    "\n",
    "[1] 리스 D를 무한대로 초기화한다. 단 임의의 시작 정점 s의 D[S] = 0 으로 초기화   \n",
    "[2] while T의 정점수 < N:\n",
    "[3]    T에 속하지 않은 각 정점 i에 대해 D[i]가 최소인 정점 min_vertex를 찾아 T에 추가   \n",
    "[4]    for T에 속하지 않은 각 정점 w에 대해서 : \n",
    "[5]       if 간선(min_vertex,w)의 가중치 < D[M]:\n",
    "[6]          D[W] = 간선(min_vertex,w)의 가중치   \n",
    "\n",
    "```  \n",
    "\n",
    "초기에 트리 T는 임의 정점 s만 갖는다.  \n",
    "T에 속하지 않은 각 정점 T에 있는 정점들에 인접한 간선들 중에서 가장 작은 가중치를 갖는 간선의 끝점을 찾기 위해 1차원 리스트 D를 사용한다.   \n",
    "\n",
    "\n",
    "<img src=\"images/20190521_212541_350.jpg\" width=\"500\">   ㅇ   \n",
    "\n",
    "a에서 트리에서 가장 가까운 정점 min_vertex를 찾아 (트리 밖에 있는 정점들의 D의 원소들 중에 서 최솟값을 찾아 )   \n",
    "b와 같이 트리에 추가한 후   \n",
    "정점 min_vertex에 인접하면서 트리에 속하지 않은 각 정점 w에 대해 (min_vertex,w)의 가중치가 D[W]보다 작으면 D[W]를 그 간선의 가중치로 갱신한다.    \n",
    "  \n",
    "  "
   ]
  },
  {
   "cell_type": "markdown",
   "metadata": {},
   "source": [
    "<img src=\"images/20190521_212604_392.jpg\" width=\"500\">   \n",
    "<img src=\"images/20190521_212616_362.jpg\" width=\"500\">   \n",
    "\n",
    "v 표시는 step[6]에서 D의 각 원소가 갱신된 것을 나타낸다. "
   ]
  },
  {
   "cell_type": "code",
   "execution_count": 73,
   "metadata": {},
   "outputs": [
    {
     "name": "stdout",
     "output_type": "stream",
     "text": [
      "최소신장트리: (1, 0)(2, 5)(3, 5)(4, 6)(5, 6)(6, 1)\n",
      " weights of minimum spanning tree: 25\n"
     ]
    }
   ],
   "source": [
    "import sys\n",
    "\n",
    "N = 7  # 정점수 \n",
    "s = 0  # 시작 정점 \n",
    "g = [None] * N  # 각 정점의 인접 정점과 weigh \n",
    "\n",
    "g[0] = [(1, 9), (2, 10)]\n",
    "g[1] = [(0, 9), (3, 10), (4, 5), (6, 3)]\n",
    "g[2] = [(0, 10), (3, 9), (4, 7), (5, 2)]\n",
    "g[3] = [(1, 10), (2, 9), (5, 4), (6, 8)]\n",
    "g[4] = [(1, 5), (2, 7), (6, 1)]\n",
    "g[5] = [(2, 2), (3, 4), (6, 6)]\n",
    "g[6] = [(1, 3), (3, 8), (4, 1), (5, 6)]\n",
    "\n",
    "visited = [False] * N  # 트리에 포함되었는지 \n",
    "D = [sys.maxsize] * N  # weight 를 기록하며 갱신할 리스트\n",
    "D[s] = 0\n",
    "previous = [None] * N  # 트리 에서 각 정점에 연결되 바로앞 정점(부모?) 기록.  \n",
    "previous[s] = s\n",
    "\n",
    "\n",
    "for i in range(N):\n",
    "    m = -1 \n",
    "    min_value = sys.maxsize\n",
    "    \n",
    "    # 1) 현 트리 로 부터 간선 길이 최소인 정점 트리에 추가한다. \n",
    "    for j in range(N):\n",
    "        if not visited[j] and D[j] < min_value :\n",
    "            min_value = D[j]  \n",
    "            m = j\n",
    "            \n",
    "    visited[m] = True\n",
    "    \n",
    "    \n",
    "    # 2) 트리에 막 추가한 정점 m의 인접 노드들의 D(트리까지의 간선거리) 최신화  \n",
    "    \n",
    "    for w,wt in list(g[m]):\n",
    "        if  not visited[w]:\n",
    "            if wt < D[w]:  \n",
    "                D[w] = wt\n",
    "                previous[w] = m \n",
    "            \n",
    "            \n",
    "if __name__ == '__main__':\n",
    "    print('최소신장트리: ', end='')\n",
    "    mst_cost = 0\n",
    "    for i in range(1, N):\n",
    "        print(f'({i}, {previous[i]})', end='')\n",
    "        mst_cost += D[i]\n",
    "    print(f'\\n weights of minimum spanning tree: {mst_cost}')"
   ]
  },
  {
   "cell_type": "markdown",
   "metadata": {},
   "source": [
    "#### 수행시간   \n",
    "Prime 알고리즘은 N번의 반벅을 통해 min_vertex를 찾고 min_vertex에 인접하면서 트리에 속하지 않은 각 정점에 해당하는 D의 원소 값을 갱신한다.  \n",
    "min_vertex를 1차원 리스트 D에서 탐색하는 과정에서 O(N) 시간이 소요되고,   \n",
    "min_vertex에 인접한 정점들을 검사하여 D의 해당 원소를 갱신하므로 O(N)시간이 소요된다.  \n",
    "따라서 총 수행시간은 N X (O(N) + O(N)) = O(N^2) 이다.   \n",
    "\n",
    "min_vertex찾기위해 이진힙 사용시 각 간선에 대한 D의 원소를 갱신하며 힙 연산을 수행햐야 하므로 총 O(MlogN)시간이 필요하다.  \n",
    "M = 그래프의 간선의 수   \n",
    "N = 힙의 최대 크기 (이진힙은 각 정점에 대응되는 D원소를 저장하므로 )   \n",
    "이때 가중치가 갱신되어 감소되었을 때의 힙 연산은 O(logN) 시간이 소요된다.   \n",
    "입력그래프가 희소 그래프라면 (M = O(N)이라면 )   \n",
    "수행시간이  O(MlogN) = O(NlogN)이되어 이진힙 사용이 매우 효율적이다.    \n",
    "\n",
    "피보나치힙 사용시 -> O(NlogN + M)시간에 Prim 알고리즘 수행 가능   "
   ]
  },
  {
   "cell_type": "code",
   "execution_count": null,
   "metadata": {},
   "outputs": [],
   "source": []
  },
  {
   "cell_type": "markdown",
   "metadata": {},
   "source": [
    "### 8.4.3 Sollin 알고리즘   \n",
    "각 정점을 독립적인 트리로 간주하고 각 트리에 연결된 간선들 중에서 가장 작은 가중치를 가진 간선을 선택한다.   \n",
    "이 때 선택된 간선은 2개의 트리를 하나의 트리로 만든다.   \n",
    "같은 방법으로 1개의 트리가 남을 때까지 각 트리에서 최소 가중치 간선을 선택하여 연결한다.    \n",
    "sollin은 병렬알고리즘(다수의 cpu를 가진 시스템 환경에서 수행되는 알고리즘) 으로 구현이 쉽다는 장점을 갖는다.   \n",
    "```\n",
    "\n",
    "[1]각 정점은 독립적인 트리이다. \n",
    "[2]repeat\n",
    "[3]  각 트리에 닿아 있는 간선들 중에서 가장 작은 가중치를 가진 간선을 선택하여 트리를 합친다.  \n",
    "[4]until(1개의 트리만 남을 때까지)  \n",
    "\n",
    "```  \n",
    "<img src=\"images/20190521_212627_746.jpg\" width=\"500\">   ㅇ \n",
    "\n",
    "\n",
    "#### 수행시간   \n",
    "위 그림 예제와 같이 repaet-루프가 각 쌍의 트리가 서로 연결되는 간선을 선택할때 -> 최대 logN번 수행됨.  \n",
    "루프 내에서는 각 트리가 자신에 닿아 있는 모든 간선들을 검사하여 최소 가중치를 가진 간선을 선택 -> O(M) 시간이 소요.  \n",
    "알고리즘 수행시간 : O(MlogN)  \n",
    "\n"
   ]
  },
  {
   "cell_type": "code",
   "execution_count": null,
   "metadata": {},
   "outputs": [],
   "source": []
  },
  {
   "cell_type": "markdown",
   "metadata": {},
   "source": [
    "## 8.4 최단경로 알고리즘 \n",
    "### 8.5.1 Diikstra 알고리즘   \n",
    "PRIME의 MST 알고리즘과 유사하나 두가지 다른점 존재  \n",
    "```\n",
    "1. Diikstra알고리즘은  출발점 주어지지만\n",
    "   prim알고리즘은 임의정점 시작해도 무방. \n",
    "2. prime 알고리즘에서는 D[i]에 간선 (i,v)의 가중치가 저장되지만, \n",
    "   Diikstra 알고리즘에서는 D[i]에 출발점으로부터 정점 i까지의 거리 (경로의 길이)가 저장된다. \n",
    "```  \n",
    "\n",
    "```\n",
    "\n",
    "[1] D를 무한대로 초기화 한다. 단, D[S]=0으로 초기화 한다.   \n",
    "[2]for k in range(N):\n",
    "[3]   방문 안된 각 정점 i 대해 D[I]가 최소인 정점 min_vertex를 찾고 방문한다.  \n",
    "[4]   for min_vertex 에 인접한 각 정점 w에 대해서 : \n",
    "[5]       if w가 방문 안된 정점이면:\n",
    "[6]          if D[min_vertex] + 간선(min_vertex,w)의 가중치 < D[w]:\n",
    "[7]             D[W] = D[min_vertex] + 간선(min_vertex,w)의 가중치 # 간선완화   \n",
    "[8]             previous[w] = min_vertex     \n",
    "\n",
    "\n",
    "```  \n",
    "\n",
    "입력 그래프는 양수 가중치 가진 그래프.   \n",
    "하나의 연결성분으로 구성됨.  \n",
    "s가 출발점.  \n",
    "\n",
    "**간선완화**: s로부터 min_vertex 경유하여 정점 w까지 거리가 현재의 D[W]보다 더 짧으면 D[W]를 짧아진 거리로 갱신.    \n",
    "<img src=\"images/20190521_212641_224.jpg\" width=\"500\">   \n",
    "\n",
    "<img src=\"images/20190521_212648_430.jpg\" width=\"500\">    \n",
    "<img src=\"images/20190521_212657_395.jpg\" width=\"500\">    \n",
    "<img src=\"images/20190521_212705_158.jpg\" width=\"500\">    0  \n",
    "\n",
    "v는 해당 정점의 D와 previous 원소가 갱신된 것을 나타낸다.     "
   ]
  },
  {
   "cell_type": "code",
   "execution_count": null,
   "metadata": {},
   "outputs": [],
   "source": [
    "# 핵심아이디어 \n",
    "# min_vertex를 찾아 방문하고   \n",
    "# min_vertex의 방문 안된 인접 정점들에 대한 간선완화를 수행.   \n",
    "# 한번 방문된 정점 D의 원소값은 변하지 않는다.   "
   ]
  },
  {
   "cell_type": "code",
   "execution_count": 91,
   "metadata": {},
   "outputs": [
    {
     "name": "stdout",
     "output_type": "stream",
     "text": [
      "previous:[0, 0, 1, 0, 1, 2, 4, 6]\n",
      "D: [0, 1, 5, 2, 2, 6, 4, 5]\n",
      "정점 0으로 부터 최단거리 \n",
      "[0, 0] = 0\n",
      "[0, 1] = 1\n",
      "[0, 2] = 5\n",
      "[0, 3] = 2\n",
      "[0, 4] = 2\n",
      "[0, 5] = 6\n",
      "[0, 6] = 4\n",
      "[0, 7] = 5\n",
      "\n",
      "정점   0 으로 부터 최단경로\n",
      "0\n",
      "(0, 0) 1<- 0\n",
      "(1, 0) 2<- 1<- 0\n",
      "(2, 1) 3<- 0\n",
      "(3, 0) 4<- 1<- 0\n",
      "(4, 1) 5<- 2<- 1<- 0\n",
      "(5, 2) 6<- 4<- 1<- 0\n",
      "(6, 4) 7<- 6<- 4<- 1<- 0\n",
      "(7, 6) "
     ]
    }
   ],
   "source": [
    "\n",
    "import sys\n",
    "\n",
    "N = 8\n",
    "s = 0\n",
    "g = [None]*N\n",
    "g[0] = [(1, 1), (3, 2)]\n",
    "g[1] = [(0, 1), (2, 4), (3, 3), (4, 1), (5, 6)]\n",
    "g[2] = [(1, 4), (5, 1), (6, 1), (7, 2)]\n",
    "g[3] = [(0, 2), (1, 3), (4, 5)]\n",
    "g[4] = [(1, 1), (3, 5), (6, 2)]\n",
    "g[5] = [(1, 6), (2, 1), (7, 9)]\n",
    "g[6] = [(2, 1), (4, 2), (7, 1)]\n",
    "g[7] = [(2, 2), (5, 9), (6, 1)]\n",
    "\n",
    "visited = [False]*N\n",
    "D = [sys.maxsize]*N\n",
    "D[s] = 0\n",
    "previous = [None]*N\n",
    "previous[s] = s  \n",
    "\n",
    "for k in range(N):\n",
    "    \n",
    "    m = -1   \n",
    "    min_value = sys.maxsize\n",
    "    \n",
    "    for j in range(N):\n",
    "        if not visited[j] and D[j] < min_value:   \n",
    "            m = j  \n",
    "            min_value = D[j] \n",
    "            \n",
    "    visited[m] = True\n",
    "    \n",
    "    for w,wt in list(g[m]):\n",
    "        if not visited[w] and wt + D[m] < D[w]:\n",
    "            D[w] = D[m] + wt  \n",
    "            previous[w] = m\n",
    "            \n",
    "            \n",
    "print(f'previous:{previous}')\n",
    "print(f'D: {D}')\n",
    "\n",
    "print('정점 0으로 부터 최단거리 ')\n",
    "for i in range(N):\n",
    "    if D[i] == sys.maxsize:\n",
    "        print(s,'와', i,'사이에 경로 없음 ')  \n",
    "    else:\n",
    "        print('[%d, %d]'% (s,i), '=', D[i])\n",
    "\n",
    "print('\\n정점  ', s,'으로 부터 최단경로')\n",
    "for i in range(N):\n",
    "    back = i  \n",
    "    print(back, end = \"\")\n",
    "    while back!=s:\n",
    "        print('<-', previous[back], end=\"\")\n",
    "        back = previous[back]\n",
    "    print()\n",
    "    \n",
    "    \n",
    "    \n",
    "    print(f'({i}, {previous[i]})', end=\" \")"
   ]
  },
  {
   "cell_type": "markdown",
   "metadata": {},
   "source": [
    "#### 수행시간  \n",
    "D에서 min_vertex를 탐색하는데 O(N)   \n",
    "min_vertex에 인접한 정점들 검사하여 D원소 갱신 O(N)  \n",
    "수행시간 : N x (O(N)+O(N)) = O(N^2)  \n",
    "\n",
    "Dijikstra 최단경로 알고리즘은 Prime MST알고리즘과 전체적으로 동일 -> 수행시간도 동일  \n",
    "이진힙, 피보나치힙 사용하는 경우도 각각 수행시간 동일.      \n",
    "\n",
    "#### 음수 가중치 문제점.   \n",
    "<img src=\"images/20190521_212724_475.jpg\" width=\"500\">  \n",
    "입력에 음수 가중치 있으면 최단경로 찾기에 실패하는 경우가 발생할 수도 있다.     \n",
    "한번 방문된 정점의 D원소를 다시 갱신하지 않기 때문.  "
   ]
  },
  {
   "cell_type": "code",
   "execution_count": null,
   "metadata": {},
   "outputs": [],
   "source": []
  },
  {
   "cell_type": "markdown",
   "metadata": {},
   "source": [
    "#### 8.5.2 Floyd-Warshall 알고리즘     \n",
    "\n",
    "https://www.youtube.com/watch?v=4OQeCuLYj-4  \n",
    "\n",
    "모든 정점 쌍 사이의 최단경로를 찾는 알고리즘.     \n",
    "출발점을 0에서 N-1까지 바꿔가며 Dijkstra알고리즘을 각각 수행하는것.  \n",
    "인접행렬 사용시 수행시간 O(N^3)  \n",
    "음수 가중치 가진 그래프에서도 최단경로를 찾을 수 있다는 장점을 가진다.   \n",
    "\n",
    "**핵심 아이디어**:  \n",
    "입력정점에 0~ N-1 ID 부여 , 정점ID증가 시키며 간선완화 수행.\n",
    "즉, 정점 0을 경유하는 경로에 존재하는 정점들에 대해 간선 완화를 수행한다.    \n",
    "갱신된 결과를 바탕으로 정점 1을 경우하는 경로에 존재하는 정점들에 대해 간선완화를 수행.....\n",
    "마지막으로 정점 N-1을 경유하는 정점들에 대해 간선완화를 수행.   \n",
    "<img src=\"images/20190521_212733_689.jpg\" width=\"500\">    \n",
    "\n",
    "```\n",
    "[1] D=입력 그래프의 인접행렬   \n",
    "[2] for k in range(N):\n",
    "[3]   for i in range(N):\n",
    "[4]     for j in range(N):\n",
    "[5]        if D[i][j] > D[i][k] + D[k][j]:\n",
    "[6]           D[i][j] = D[i][k] + D[k][j] # 간선완화   \n",
    "\n",
    "```"
   ]
  },
  {
   "cell_type": "code",
   "execution_count": 93,
   "metadata": {},
   "outputs": [
    {
     "name": "stdout",
     "output_type": "stream",
     "text": [
      "  0  1  2  3  4\n",
      "  0  0  1  2  3\n",
      " -1 -1  0  1  2\n",
      " -2 -1  0  0  2\n",
      " -3 -3 -2 -1  0\n"
     ]
    }
   ],
   "source": [
    "  \n",
    "import sys\n",
    "\n",
    "N = 5\n",
    "INF = sys.maxsize\n",
    "D = [[0, 4, 2, 5, INF],\n",
    "     [INF, 0, 1, INF, 4],\n",
    "     [1, 3, 0, 1, 2],\n",
    "     [-2, INF, INF, 0, 2],\n",
    "     [INF, -3, 3, 1, 0]]  \n",
    "\n",
    "\n",
    "for k in range(N):\n",
    "    for i in range(N):\n",
    "        for j in range(N):\n",
    "            if D[i][j] > D[i][k] + D[k][j]:\n",
    "                D[i][j] = D[i][k] + D[k][j] # 간선완화     \n",
    "                \n",
    "                \n",
    "for i in range(N):\n",
    "    for j in range(N):\n",
    "        print('%3d'% D[i][j], end =\"\")\n",
    "    print()\n"
   ]
  },
  {
   "cell_type": "markdown",
   "metadata": {},
   "source": [
    "##### 수행시간   \n",
    "리스트 복사에 O(N^2)  \n",
    "for loop * 3 = O(N^3)  \n",
    "수행시간 : O(N^3)   \n",
    "\n",
    "\n",
    "Floyd-warshall ->  작은 부분문제드의 해를 먼저 계산하고 그 해들을 바탕으로 그다음으로 큰 부분문제들을 해결해 가면서 주어진 문제 해 계산하는 동적계획알고리즘   \n",
    "Djikstra ->  입력 전체를 고려하지 않고 지역적인 입력에 대해 탐욕적으로 그때에서 최선의 해를 선택하며 이를 축적하여 해를 얻는다.    \n",
    "\n"
   ]
  },
  {
   "cell_type": "markdown",
   "metadata": {},
   "source": [
    "### 요약  \n",
    "- 그래프 저장 : 인접행렬, 인접 리스트 사용  \n",
    "- DFS       : 스택 사용   \n",
    "- BFS       : 큐 사용 \n",
    "- 연결성분 찾기: DFS.BFS \n",
    "- 위상정렬    : DFS 수행하며 정점 v인접한 모든 방문 끝나자마자 v를 리스트 추가 -> 역순이 위상정렬 \n",
    "- Kruskal   : 간선들 가중치 정렬 -> 가중치 최소간선이 싸이클 안만들면 트리에 추가 -> N-1개 선택시 종료 \n",
    "- Prim      : 트리에 인접한 가장 가까운 정점 하나씩 추가 -> 최소 신장 트리 만듬  \n",
    "- Sollin    : 각트리 연결된 간선중 가장 작은 가중치 간선 선택-> 이것이 2개 트리를 하나로 합친다. -> 하나 남을때까지   \n",
    "- Dijkstra  :  출발점~방문안된 정점들 중 가장 가까운 거리 방문(트리에추가) -> 방문정점 기준으로 주변 정점 간선완화수행 최단경로 계산  \n",
    "- Floyd-Warshall: 모든 정점 쌍 사이의 최단경로 찾는 알고리즘. 각정점들 0~n-1아이디 부여하고 정점 id를 증가시키며 간선완화 수행 "
   ]
  },
  {
   "cell_type": "code",
   "execution_count": null,
   "metadata": {},
   "outputs": [],
   "source": []
  }
 ],
 "metadata": {
  "kernelspec": {
   "display_name": "Python 3",
   "language": "python",
   "name": "python3"
  },
  "language_info": {
   "codemirror_mode": {
    "name": "ipython",
    "version": 3
   },
   "file_extension": ".py",
   "mimetype": "text/x-python",
   "name": "python",
   "nbconvert_exporter": "python",
   "pygments_lexer": "ipython3",
   "version": "3.6.5"
  }
 },
 "nbformat": 4,
 "nbformat_minor": 2
}
